{
 "cells": [
  {
   "cell_type": "code",
   "execution_count": 1,
   "id": "856462b1-d62d-4d4a-8f23-a157e07ec8c3",
   "metadata": {},
   "outputs": [],
   "source": [
    "import os\n",
    "\n",
    "from joblib import Parallel, delayed\n",
    "from tqdm.auto import tqdm\n",
    "from tqdm import tqdm"
   ]
  },
  {
   "cell_type": "code",
   "execution_count": 2,
   "id": "0afb7735-cbf4-4e48-b812-b56c97a081f3",
   "metadata": {},
   "outputs": [],
   "source": [
    "esm_data_dir = \"/scratch/09101/whatever/data/esmfold_atlas\"\n",
    "esm_data_dir_raw = \"/scratch/00946/zzhang/data/esmfold/\""
   ]
  },
  {
   "cell_type": "code",
   "execution_count": 7,
   "id": "afd11abb-d909-4e9a-8b0d-a45dbb23a941",
   "metadata": {},
   "outputs": [],
   "source": [
    "def get_size_and_diff(i):\n",
    "    files = list(map(lambda x: x[:-4], os.listdir(f\"{esm_data_dir}/{i:03d}\")))\n",
    "    files_raw = list(map(lambda x: x[:-4], os.listdir(f\"{esm_data_dir_raw}/{i:03d}\")))\n",
    "    lacked_files = tuple(set(files_raw) - set(files))\n",
    "    size = sum([os.path.getsize(f\"{esm_data_dir}/{i:03d}/{f}.npz\") for f in files]) / 1_000_000\n",
    "    size_raw = sum([os.path.getsize(f\"{esm_data_dir_raw}/{i:03d}/{f}.pdb\") for f in files]) / 1_000_000\n",
    "    return lacked_files, size, size_raw"
   ]
  },
  {
   "cell_type": "code",
   "execution_count": 10,
   "id": "3dff8ac7-2e4b-47c1-89ec-d38672b20a8b",
   "metadata": {},
   "outputs": [
    {
     "name": "stderr",
     "output_type": "stream",
     "text": [
      "100%|████████████████████████████████████████████████████████████████████████████████████████████████████████████████████████████████████████████| 1000/1000 [04:48<00:00,  3.46it/s]\n"
     ]
    }
   ],
   "source": [
    "lacked_files, sizes, sizes_raw = zip(*Parallel(n_jobs=128)(delayed(get_size_and_diff)(i) for i in tqdm(range(1000))))"
   ]
  },
  {
   "cell_type": "code",
   "execution_count": 15,
   "id": "a656e754-a4f2-432d-b3fd-3ebe9f01c71a",
   "metadata": {},
   "outputs": [],
   "source": [
    "with open(\"slurm_log/bad_proteins.txt\", \"w\") as f:\n",
    "    for i in [j for i in lacked_files for j in i]:\n",
    "        print(i, file=f)"
   ]
  },
  {
   "cell_type": "code",
   "execution_count": 16,
   "id": "73b5f874-4ac0-4a3f-b6df-274dd4e10ca1",
   "metadata": {},
   "outputs": [],
   "source": [
    "with open(\"slurm_log/size_stats.txt\", \"w\") as f:\n",
    "    print(sum(sizes) / 1000, file=f)\n",
    "    print(sum(sizes_raw) / 1000, file=f)"
   ]
  },
  {
   "cell_type": "code",
   "execution_count": null,
   "id": "1efa8673-bc7e-40fb-8cc9-ddcc6dd6b643",
   "metadata": {},
   "outputs": [],
   "source": []
  },
  {
   "cell_type": "code",
   "execution_count": 1,
   "id": "e69ce66d-35b0-43f5-aa02-acc9e7fbd29f",
   "metadata": {},
   "outputs": [],
   "source": [
    "import os\n",
    "\n",
    "import pandas as pd\n",
    "import matplotlib.pyplot as plt\n",
    "import seaborn as sns\n"
   ]
  },
  {
   "cell_type": "code",
   "execution_count": 3,
   "id": "a7b90873-2b95-45ab-8d43-2e9c7a534214",
   "metadata": {},
   "outputs": [],
   "source": [
    "data_dir = \"/scratch/09101/whatever/data/esmfold_atlas\""
   ]
  },
  {
   "cell_type": "code",
   "execution_count": 4,
   "id": "724315ae-3283-42a8-b493-ebd49cfc1b01",
   "metadata": {},
   "outputs": [],
   "source": [
    "df_full = pd.read_parquet(f\"{data_dir}/stats.parquet\")\n",
    "df_rep = pd.read_parquet(f\"{data_dir}/stats_rep.parquet\")"
   ]
  },
  {
   "cell_type": "code",
   "execution_count": 8,
   "id": "3d8af313-c259-48ae-bef2-196bf8422905",
   "metadata": {},
   "outputs": [
    {
     "data": {
      "text/plain": [
       "Index(['id', 'ptm', 'plddt', 'num_conf', 'len'], dtype='object')"
      ]
     },
     "execution_count": 8,
     "metadata": {},
     "output_type": "execute_result"
    }
   ],
   "source": [
    "df_full.columns"
   ]
  },
  {
   "cell_type": "code",
   "execution_count": 31,
   "id": "26455177-7468-4c55-b508-782ca12240e3",
   "metadata": {},
   "outputs": [],
   "source": [
    "df_full[\"perc_conf\"] = df_full.num_conf / df_full.len\n",
    "df_rep[\"perc_conf\"] = df_rep.num_conf / df_rep.len"
   ]
  },
  {
   "cell_type": "code",
   "execution_count": 10,
   "id": "ab2bc4f2-a9fd-479e-abdb-7f90b8426b55",
   "metadata": {},
   "outputs": [
    {
     "data": {
      "text/plain": [
       "2"
      ]
     },
     "execution_count": 10,
     "metadata": {},
     "output_type": "execute_result"
    }
   ],
   "source": [
    "(df_rep.plddt < 0.7).sum()"
   ]
  },
  {
   "cell_type": "code",
   "execution_count": 11,
   "id": "22e67d4d-f20a-4b94-bfbb-56eeed50adda",
   "metadata": {},
   "outputs": [
    {
     "data": {
      "text/plain": [
       "8920"
      ]
     },
     "execution_count": 11,
     "metadata": {},
     "output_type": "execute_result"
    }
   ],
   "source": [
    "(df_rep.ptm < 0.7).sum()"
   ]
  },
  {
   "cell_type": "code",
   "execution_count": 13,
   "id": "d8c25e55-6ec4-4644-a8dd-0c1e3951b6de",
   "metadata": {},
   "outputs": [],
   "source": [
    "bad_pro = pd.read_csv(\"slurm_log/bad_proteins.txt\", header=None)\n",
    "bad_pro.columns = [\"id\"]\n",
    "bad_pro[\"reason\"] = \"zero models\"\n"
   ]
  },
  {
   "cell_type": "code",
   "execution_count": 21,
   "id": "e2c29b6b-77e3-49c0-9c56-2d4e338b9110",
   "metadata": {},
   "outputs": [],
   "source": [
    "df_low_plddt = df_rep[df_rep.plddt < 0.7]\n",
    "bad_pro = pd.concat(\n",
    "    [\n",
    "        bad_pro,\n",
    "        pd.DataFrame(dict(id=df_low_plddt.id, reason=\"low plddt \" + df_low_plddt.plddt.map(str)))\n",
    "    ]\n",
    ")"
   ]
  },
  {
   "cell_type": "code",
   "execution_count": 24,
   "id": "962890e4-1038-459b-a357-24d2647b0abd",
   "metadata": {},
   "outputs": [],
   "source": [
    "df_low_ptm = df_rep[df_rep.ptm < 0.7]\n",
    "bad_pro = pd.concat(\n",
    "    [\n",
    "        bad_pro,\n",
    "        pd.DataFrame(dict(id=df_low_ptm.id, reason=\"low ptm \" + df_low_ptm.ptm.map(str)))\n",
    "    ]\n",
    ")"
   ]
  },
  {
   "cell_type": "code",
   "execution_count": 25,
   "id": "60bd6c12-ca2f-40c6-8b66-af31d3d96daf",
   "metadata": {},
   "outputs": [
    {
     "data": {
      "text/plain": [
       "(10223, 2)"
      ]
     },
     "execution_count": 25,
     "metadata": {},
     "output_type": "execute_result"
    }
   ],
   "source": [
    "bad_pro.shape"
   ]
  },
  {
   "cell_type": "code",
   "execution_count": 26,
   "id": "b863f525-8425-4fa7-8c67-e453c90db2ff",
   "metadata": {},
   "outputs": [],
   "source": [
    "bad_pro.to_csv(\"slurm_log/bad_proteins.csv\", index=False)"
   ]
  },
  {
   "cell_type": "code",
   "execution_count": 28,
   "id": "28b5cb4f-4a59-45de-ad33-c324d77e5a7c",
   "metadata": {},
   "outputs": [],
   "source": [
    "df_rep = pd.read_parquet(f\"{data_dir}/stats_rep.parquet\")\n",
    "df_rep = df_rep[~df_rep.id.isin(bad_pro.id)]"
   ]
  },
  {
   "cell_type": "code",
   "execution_count": 29,
   "id": "bf09266e-2310-4bf9-ba16-1e3e91da76d6",
   "metadata": {},
   "outputs": [
    {
     "data": {
      "text/plain": [
       "(36977707, 5)"
      ]
     },
     "execution_count": 29,
     "metadata": {},
     "output_type": "execute_result"
    }
   ],
   "source": [
    "df_rep.shape"
   ]
  },
  {
   "cell_type": "code",
   "execution_count": 54,
   "id": "ac313115-45dc-46e9-b166-4d2e7977f9d4",
   "metadata": {},
   "outputs": [],
   "source": [
    "df_rep.to_parquet(f\"{data_dir}/stats_rep.parquet\")"
   ]
  },
  {
   "cell_type": "code",
   "execution_count": 38,
   "id": "2fb644f2-444e-495c-9e05-2f74f19ed014",
   "metadata": {},
   "outputs": [],
   "source": [
    "fig, axs = plt.subplots(4, 1, figsize=(10, 20))\n",
    "df_rep.ptm.plot(kind=\"hist\", bins=100, ax=axs[0])\n",
    "df_rep.plddt.plot(kind=\"hist\", bins=100, ax=axs[1])\n",
    "df_rep.perc_conf.plot(kind=\"hist\", bins=100, ax=axs[2])\n",
    "df_rep.len.plot(kind=\"hist\", bins=100, ax=axs[3])\n",
    "axs[0].set_xlabel(\"pTM\")\n",
    "axs[1].set_xlabel(\"plDDT\")\n",
    "axs[2].set_xlabel(\"Ratio of plDDT > 0.7 residues\")\n",
    "axs[3].set_xlabel(\"Length\")\n",
    "fig.savefig(\"imgs/esmfold_atlas_dist_rep.jpg\", dpi=150)"
   ]
  },
  {
   "cell_type": "code",
   "execution_count": 39,
   "id": "697c148b-f457-467c-9118-f3984cbeca06",
   "metadata": {},
   "outputs": [],
   "source": [
    "fig, axs = plt.subplots(4, 1, figsize=(10, 30))\n",
    "df_full.ptm.plot(kind=\"hist\", bins=100, ax=axs[0])\n",
    "df_full.plddt.plot(kind=\"hist\", bins=100, ax=axs[1])\n",
    "df_full.perc_conf.plot(kind=\"hist\", bins=100, ax=axs[2])\n",
    "df_full.len.plot(kind=\"hist\", bins=100, ax=axs[3])\n",
    "axs[0].set_xlabel(\"pTM\")\n",
    "axs[1].set_xlabel(\"plDDT\")\n",
    "axs[2].set_xlabel(\"Ratio of plDDT > 0.7 residues\")\n",
    "axs[3].set_xlabel(\"Length\")\n",
    "fig.savefig(\"imgs/esmfold_atlas_dist.jpg\", dpi=150)"
   ]
  },
  {
   "cell_type": "code",
   "execution_count": 43,
   "id": "ae7cea65-9636-4f06-8ca4-ea10ccc9241f",
   "metadata": {},
   "outputs": [],
   "source": [
    "fig, ax = plt.subplots(figsize=(10, 10))\n",
    "ax.hist2d(x=df_rep.plddt, y=df_rep.ptm, cmap=\"hot_r\", bins=(30, 30))\n",
    "ax.set_xlabel(\"plDDT\")\n",
    "ax.set_ylabel(\"pTM\")\n",
    "fig.savefig(\"imgs/esmfold_atlas_plddt_ptm_rep.jpg\")"
   ]
  },
  {
   "cell_type": "code",
   "execution_count": 45,
   "id": "eccc06b9-d423-4df1-9a33-aea0659e8185",
   "metadata": {},
   "outputs": [],
   "source": [
    "fig, ax = plt.subplots(figsize=(10, 10))\n",
    "ax.hist2d(x=df_rep.plddt, y=df_rep.perc_conf, bins=(30, 60), cmap=\"hot_r\")\n",
    "ax.set_xlabel(\"plDDT\")\n",
    "ax.set_ylabel(\"Ratio of plDDT > 0.7 residues\")\n",
    "fig.savefig(\"imgs/esmfold_atlas_plddt_conf_rep.jpg\")"
   ]
  },
  {
   "cell_type": "code",
   "execution_count": 51,
   "id": "9c084c6b-cb3b-46c7-a97a-cd701031dfb3",
   "metadata": {},
   "outputs": [],
   "source": [
    "df_full = df_full.dropna(subset=[\"plddt\", \"ptm\", \"perc_conf\"])"
   ]
  },
  {
   "cell_type": "code",
   "execution_count": 52,
   "id": "db38d9f3-aa0d-44a5-b2af-29a143e791f2",
   "metadata": {},
   "outputs": [],
   "source": [
    "fig, ax = plt.subplots(figsize=(10, 10))\n",
    "ax.hist2d(x=df_full.plddt, y=df_full.ptm, bins=(100, 100), cmap=\"hot_r\")\n",
    "ax.set_xlabel(\"plDDT\")\n",
    "ax.set_ylabel(\"pTM\")\n",
    "ax.axvline(0.7, linestyle='--', color=\"r\")\n",
    "ax.axhline(0.7, linestyle='--', color=\"r\")\n",
    "fig.savefig(\"imgs/esmfold_atlas_plddt_ptm.jpg\")"
   ]
  },
  {
   "cell_type": "code",
   "execution_count": 53,
   "id": "344673be-0168-4197-b9c7-436f6ff115e3",
   "metadata": {},
   "outputs": [],
   "source": [
    "fig, ax = plt.subplots(figsize=(10, 10))\n",
    "ax.hist2d(x=df_full.plddt, y=df_full.perc_conf, bins=(100, 100), cmap=\"hot_r\")\n",
    "ax.set_xlabel(\"plDDT\")\n",
    "ax.set_ylabel(\"Ratio of plDDT > 0.7 residues\")\n",
    "ax.axvline(0.7, linestyle='--', color=\"r\")\n",
    "fig.savefig(\"imgs/esmfold_atlas_plddt_conf.jpg\")"
   ]
  },
  {
   "cell_type": "code",
   "execution_count": 61,
   "id": "8444a633-091f-423e-a56c-386aa0aef665",
   "metadata": {},
   "outputs": [],
   "source": [
    "from tqdm.auto import tqdm"
   ]
  },
  {
   "cell_type": "code",
   "execution_count": 62,
   "id": "4667a739-ac89-48ca-8de7-6e1da857e850",
   "metadata": {},
   "outputs": [
    {
     "name": "stderr",
     "output_type": "stream",
     "text": [
      "  1%|█▌                                                                                                                                            | 11/1002 [00:20<30:45,  1.86s/it]\n"
     ]
    },
    {
     "data": {
      "application/vnd.jupyter.widget-view+json": {
       "model_id": "b7267c23437c433a9c742b88d0a15d1e",
       "version_major": 2,
       "version_minor": 0
      },
      "text/plain": [
       "  0%|          | 0/1002 [00:00<?, ?it/s]"
      ]
     },
     "metadata": {},
     "output_type": "display_data"
    }
   ],
   "source": [
    "id_to_dir = {\n",
    "    j: i\n",
    "    for i in tqdm(os.listdir(data_dir)) if os.path.isdir(f\"{data_dir}/{i}\")\n",
    "    for j in os.listdir(f\"{data_dir}/{i}\")\n",
    "}"
   ]
  },
  {
   "cell_type": "code",
   "execution_count": 63,
   "id": "e2fce749-4580-44cb-a630-d0aa9f54a228",
   "metadata": {},
   "outputs": [],
   "source": [
    "for i in range(70, 100):\n",
    "    for j in range(70, 100):\n",
    "        os.makedirs(f\"{data_dir}/{i}_{j}\", exist_ok=True)"
   ]
  },
  {
   "cell_type": "code",
   "execution_count": 64,
   "id": "a4cd8de0-5769-4945-bbb2-fbff24845931",
   "metadata": {},
   "outputs": [],
   "source": [
    "import shutil"
   ]
  },
  {
   "cell_type": "code",
   "execution_count": 67,
   "id": "58a746a7-6f09-420b-a06f-8391aeb31a02",
   "metadata": {},
   "outputs": [
    {
     "data": {
      "application/vnd.jupyter.widget-view+json": {
       "model_id": "9509e3cb41e748c1bbde16a926ff2c6d",
       "version_major": 2,
       "version_minor": 0
      },
      "text/plain": [
       "0it [00:00, ?it/s]"
      ]
     },
     "metadata": {},
     "output_type": "display_data"
    },
    {
     "ename": "KeyboardInterrupt",
     "evalue": "",
     "output_type": "error",
     "traceback": [
      "\u001b[0;31m---------------------------------------------------------------------------\u001b[0m",
      "\u001b[0;31mKeyboardInterrupt\u001b[0m                         Traceback (most recent call last)",
      "\u001b[0;32m/tmp/ipykernel_3245365/1175732042.py\u001b[0m in \u001b[0;36m<module>\u001b[0;34m\u001b[0m\n\u001b[1;32m      3\u001b[0m     \u001b[0msrc\u001b[0m \u001b[0;34m=\u001b[0m \u001b[0;34mf\"{data_dir}/{id_to_dir[file_]}/{file_}\"\u001b[0m\u001b[0;34m\u001b[0m\u001b[0;34m\u001b[0m\u001b[0m\n\u001b[1;32m      4\u001b[0m     \u001b[0mdst\u001b[0m \u001b[0;34m=\u001b[0m \u001b[0;34mf\"{data_dir}/{int(rep.ptm * 100)}_{int(rep.plddt * 100)}/{file_}\"\u001b[0m\u001b[0;34m\u001b[0m\u001b[0;34m\u001b[0m\u001b[0m\n\u001b[0;32m----> 5\u001b[0;31m     \u001b[0mshutil\u001b[0m\u001b[0;34m.\u001b[0m\u001b[0mcopy\u001b[0m\u001b[0;34m(\u001b[0m\u001b[0msrc\u001b[0m\u001b[0;34m,\u001b[0m \u001b[0mdst\u001b[0m\u001b[0;34m)\u001b[0m\u001b[0;34m\u001b[0m\u001b[0;34m\u001b[0m\u001b[0m\n\u001b[0m",
      "\u001b[0;32m/opt/apps/intel19/python3/3.9.7/lib/python3.9/shutil.py\u001b[0m in \u001b[0;36mcopy\u001b[0;34m(src, dst, follow_symlinks)\u001b[0m\n\u001b[1;32m    424\u001b[0m     \u001b[0;32mif\u001b[0m \u001b[0mos\u001b[0m\u001b[0;34m.\u001b[0m\u001b[0mpath\u001b[0m\u001b[0;34m.\u001b[0m\u001b[0misdir\u001b[0m\u001b[0;34m(\u001b[0m\u001b[0mdst\u001b[0m\u001b[0;34m)\u001b[0m\u001b[0;34m:\u001b[0m\u001b[0;34m\u001b[0m\u001b[0;34m\u001b[0m\u001b[0m\n\u001b[1;32m    425\u001b[0m         \u001b[0mdst\u001b[0m \u001b[0;34m=\u001b[0m \u001b[0mos\u001b[0m\u001b[0;34m.\u001b[0m\u001b[0mpath\u001b[0m\u001b[0;34m.\u001b[0m\u001b[0mjoin\u001b[0m\u001b[0;34m(\u001b[0m\u001b[0mdst\u001b[0m\u001b[0;34m,\u001b[0m \u001b[0mos\u001b[0m\u001b[0;34m.\u001b[0m\u001b[0mpath\u001b[0m\u001b[0;34m.\u001b[0m\u001b[0mbasename\u001b[0m\u001b[0;34m(\u001b[0m\u001b[0msrc\u001b[0m\u001b[0;34m)\u001b[0m\u001b[0;34m)\u001b[0m\u001b[0;34m\u001b[0m\u001b[0;34m\u001b[0m\u001b[0m\n\u001b[0;32m--> 426\u001b[0;31m     \u001b[0mcopyfile\u001b[0m\u001b[0;34m(\u001b[0m\u001b[0msrc\u001b[0m\u001b[0;34m,\u001b[0m \u001b[0mdst\u001b[0m\u001b[0;34m,\u001b[0m \u001b[0mfollow_symlinks\u001b[0m\u001b[0;34m=\u001b[0m\u001b[0mfollow_symlinks\u001b[0m\u001b[0;34m)\u001b[0m\u001b[0;34m\u001b[0m\u001b[0;34m\u001b[0m\u001b[0m\n\u001b[0m\u001b[1;32m    427\u001b[0m     \u001b[0mcopymode\u001b[0m\u001b[0;34m(\u001b[0m\u001b[0msrc\u001b[0m\u001b[0;34m,\u001b[0m \u001b[0mdst\u001b[0m\u001b[0;34m,\u001b[0m \u001b[0mfollow_symlinks\u001b[0m\u001b[0;34m=\u001b[0m\u001b[0mfollow_symlinks\u001b[0m\u001b[0;34m)\u001b[0m\u001b[0;34m\u001b[0m\u001b[0;34m\u001b[0m\u001b[0m\n\u001b[1;32m    428\u001b[0m     \u001b[0;32mreturn\u001b[0m \u001b[0mdst\u001b[0m\u001b[0;34m\u001b[0m\u001b[0;34m\u001b[0m\u001b[0m\n",
      "\u001b[0;32m/opt/apps/intel19/python3/3.9.7/lib/python3.9/shutil.py\u001b[0m in \u001b[0;36mcopyfile\u001b[0;34m(src, dst, follow_symlinks)\u001b[0m\n\u001b[1;32m    275\u001b[0m                     \u001b[0;32mtry\u001b[0m\u001b[0;34m:\u001b[0m\u001b[0;34m\u001b[0m\u001b[0;34m\u001b[0m\u001b[0m\n\u001b[1;32m    276\u001b[0m                         \u001b[0m_fastcopy_sendfile\u001b[0m\u001b[0;34m(\u001b[0m\u001b[0mfsrc\u001b[0m\u001b[0;34m,\u001b[0m \u001b[0mfdst\u001b[0m\u001b[0;34m)\u001b[0m\u001b[0;34m\u001b[0m\u001b[0;34m\u001b[0m\u001b[0m\n\u001b[0;32m--> 277\u001b[0;31m                         \u001b[0;32mreturn\u001b[0m \u001b[0mdst\u001b[0m\u001b[0;34m\u001b[0m\u001b[0;34m\u001b[0m\u001b[0m\n\u001b[0m\u001b[1;32m    278\u001b[0m                     \u001b[0;32mexcept\u001b[0m \u001b[0m_GiveupOnFastCopy\u001b[0m\u001b[0;34m:\u001b[0m\u001b[0;34m\u001b[0m\u001b[0;34m\u001b[0m\u001b[0m\n\u001b[1;32m    279\u001b[0m                         \u001b[0;32mpass\u001b[0m\u001b[0;34m\u001b[0m\u001b[0;34m\u001b[0m\u001b[0m\n",
      "\u001b[0;31mKeyboardInterrupt\u001b[0m: "
     ]
    }
   ],
   "source": [
    "for rep in tqdm(df_rep.itertuples()):\n",
    "    file_ = f\"{rep.id}.npz\"\n",
    "    src = f\"{data_dir}/{id_to_dir[file_]}/{file_}\"\n",
    "    dst = f\"{data_dir}/{int(rep.ptm * 100)}_{int(rep.plddt * 100)}/{file_}\"\n",
    "    shutil.copy(src, dst)"
   ]
  },
  {
   "cell_type": "code",
   "execution_count": 1,
   "id": "657ebfc7-13fc-42e5-8191-03cbe6b1381b",
   "metadata": {},
   "outputs": [],
   "source": [
    "import os\n",
    "import shutil"
   ]
  },
  {
   "cell_type": "code",
   "execution_count": 2,
   "id": "428cc078",
   "metadata": {},
   "outputs": [],
   "source": [
    "esm_dir = \"/scratch/09120/sk844/validation_set_casp15/esmfold_predictions\"\n",
    "for i in os.listdir(esm_dir):\n",
    "    shutil.copy(f\"{esm_dir}/{i}\", f\"./val_res/casp15_pdb_esm/{i.split()[0]}.pdb\")"
   ]
  },
  {
   "cell_type": "code",
   "execution_count": 4,
   "id": "328aa676",
   "metadata": {},
   "outputs": [],
   "source": [
    "colab_dir = \"/scratch/09120/sk844/validation_set_casp15/colabfold_predictions\"\n",
    "for i in os.listdir(colab_dir):\n",
    "    if not i.endswith(\".pdb\"):\n",
    "        continue\n",
    "    model_id = i[-5]\n",
    "    shutil.copy(f\"{colab_dir}/{i}\", f\"./val_res/casp15_pdb_cf{model_id}/{i.split('_')[0]}.pdb\")"
   ]
  },
  {
   "cell_type": "code",
   "execution_count": 5,
   "id": "4f9bf872",
   "metadata": {},
   "outputs": [],
   "source": [
    "colab_ss_dir = \"/scratch/09120/sk844/validation_set_casp15/colabfold_sseq_predictions\"\n",
    "for i in os.listdir(colab_ss_dir):\n",
    "    if not i.endswith(\".pdb\"):\n",
    "        continue\n",
    "    model_id = i[-5]\n",
    "    shutil.copy(f\"{colab_ss_dir}/{i}\", f\"./val_res/casp15_pdb_cf_ss{model_id}/{i.split('_')[0]}.pdb\")"
   ]
  },
  {
   "cell_type": "code",
   "execution_count": null,
   "id": "082e074c",
   "metadata": {},
   "outputs": [],
   "source": []
  }
 ],
 "metadata": {
  "kernelspec": {
   "display_name": "base",
   "language": "python",
   "name": "python3"
  },
  "language_info": {
   "codemirror_mode": {
    "name": "ipython",
    "version": 3
   },
   "file_extension": ".py",
   "mimetype": "text/x-python",
   "name": "python",
   "nbconvert_exporter": "python",
   "pygments_lexer": "ipython3",
   "version": "3.9.12"
  },
  "vscode": {
   "interpreter": {
    "hash": "a5f554d24cfe6cb7dbf89b836ab675f7d1db127d73934d32ecea0648b10c664e"
   }
  }
 },
 "nbformat": 4,
 "nbformat_minor": 5
}
